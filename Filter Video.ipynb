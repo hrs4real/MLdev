{
 "cells": [
  {
   "cell_type": "code",
   "execution_count": 7,
   "id": "6ac17f8e",
   "metadata": {},
   "outputs": [],
   "source": [
    "import cv2\n",
    "facemodel=cv2.CascadeClassifier(\"haarcascade_frontalface_default.xml\")\n",
    "cap = cv2.VideoCapture(0)\n",
    "while True:\n",
    "    status, photo = cap.read()\n",
    "    myfacecoord1 = facemodel.detectMultiScale(photo)\n",
    "\n",
    "    if len(myfacecoord1) >= 1:\n",
    "        x1, y1, w1, h1 = myfacecoord1[0]\n",
    "        x2 = x1 + w1\n",
    "        y2 = y1 + h1\n",
    "\n",
    "        img2 = cv2.imread(\"luffy.jpg\")\n",
    "        img2 = cv2.resize(img2, (w1, h1))\n",
    "\n",
    "     \n",
    "        photo[y1:y2, x1:x2] = img2\n",
    "\n",
    "        cv2.imshow(\"hi\", photo)\n",
    "\n",
    "    if cv2.waitKey(10) == 13:\n",
    "        break\n",
    "\n",
    "cv2.destroyAllWindows()\n",
    "cap.release()"
   ]
  },
  {
   "cell_type": "code",
   "execution_count": 3,
   "id": "18775054",
   "metadata": {},
   "outputs": [],
   "source": []
  },
  {
   "cell_type": "code",
   "execution_count": null,
   "id": "39af4fa8",
   "metadata": {},
   "outputs": [],
   "source": []
  },
  {
   "cell_type": "code",
   "execution_count": null,
   "id": "be489bde",
   "metadata": {},
   "outputs": [],
   "source": []
  }
 ],
 "metadata": {
  "kernelspec": {
   "display_name": "Python 3 (ipykernel)",
   "language": "python",
   "name": "python3"
  },
  "language_info": {
   "codemirror_mode": {
    "name": "ipython",
    "version": 3
   },
   "file_extension": ".py",
   "mimetype": "text/x-python",
   "name": "python",
   "nbconvert_exporter": "python",
   "pygments_lexer": "ipython3",
   "version": "3.10.9"
  }
 },
 "nbformat": 4,
 "nbformat_minor": 5
}
