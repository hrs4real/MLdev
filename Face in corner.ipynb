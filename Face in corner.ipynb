{
 "cells": [
  {
   "cell_type": "code",
   "execution_count": 1,
   "id": "e3a093dd",
   "metadata": {},
   "outputs": [],
   "source": [
    "import cv2\n",
    "facemodel=cv2.CascadeClassifier(\"haarcascade_frontalface_default.xml\")\n",
    "cap = cv2.VideoCapture(0)\n",
    "while True:\n",
    "    status, photo = cap.read()\n",
    "    myfacecoord1 = facemodel.detectMultiScale(photo)\n",
    "\n",
    "    if len(myfacecoord1) >= 1:\n",
    "        x1, y1, w1, h1 = myfacecoord1[0]\n",
    "        x2 = x1 + w1\n",
    "        y2 = y1 + h1\n",
    "\n",
    "\n",
    "\n",
    "     \n",
    "        photo[0:h1, 0:w1] = photo[y1:y2, x1:x2]\n",
    "\n",
    "        cv2.imshow(\"hi\", photo)\n",
    "\n",
    "    if cv2.waitKey(10) == 13:\n",
    "        break\n",
    "\n",
    "cv2.destroyAllWindows()\n",
    "cap.release()"
   ]
  },
  {
   "cell_type": "code",
   "execution_count": null,
   "id": "2cf999ca",
   "metadata": {},
   "outputs": [],
   "source": []
  }
 ],
 "metadata": {
  "kernelspec": {
   "display_name": "Python 3 (ipykernel)",
   "language": "python",
   "name": "python3"
  },
  "language_info": {
   "codemirror_mode": {
    "name": "ipython",
    "version": 3
   },
   "file_extension": ".py",
   "mimetype": "text/x-python",
   "name": "python",
   "nbconvert_exporter": "python",
   "pygments_lexer": "ipython3",
   "version": "3.10.9"
  }
 },
 "nbformat": 4,
 "nbformat_minor": 5
}
