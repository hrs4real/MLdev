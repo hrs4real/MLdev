{
 "cells": [
  {
   "cell_type": "code",
   "execution_count": 1,
   "id": "2a72f702",
   "metadata": {},
   "outputs": [],
   "source": [
    "import cv2"
   ]
  },
  {
   "cell_type": "code",
   "execution_count": 5,
   "id": "809d1adc",
   "metadata": {},
   "outputs": [],
   "source": [
    "def get_face(temp_photo):\n",
    " facemodel=cv2.CascadeClassifier(\"haarcascade_frontalface_default.xml\")\n",
    " myfacecoord1 = facemodel.detectMultiScale(temp_photo)\n",
    " if len(myfacecoord1) >= 1:\n",
    "       x1, y1, w1, h1 = myfacecoord1[0]\n",
    "       x2 = x1 + w1\n",
    "       y2 = y1 + h1   \n",
    " return x1,y1,x2,y2\n",
    "\n",
    "def click_pic():\n",
    " cap=cv2.VideoCapture(0)\n",
    " status,temp_photo= cap.read()\n",
    " cap.release()\n",
    " print(status)\n",
    " cv2.imshow(\"Picture\",temp_photo)\n",
    " cv2.waitKey() == 13\n",
    " cv2.destroyAllWindows()   \n",
    " return temp_photo   \n",
    "    \n",
    "def crop_pic(temp_photo):\n",
    " X1,Y1,X2,Y2= get_face(temp_photo) \n",
    " crop_photo=temp_photo[Y1:Y2,X1:X2]\n",
    " cv2.imshow(\"Picture\",crop_photo)\n",
    " cv2.waitKey() == 13\n",
    " cv2.destroyAllWindows()\n",
    " return crop_photo   \n",
    "\n",
    "def replace_photo(c_photo,photo2):\n",
    "    x1,y1,x2,y2=get_face(photo2)\n",
    "    re_photo = cv2.resize(c_photo, (x2-x1, y2-y1))\n",
    "    photo2[y1:y2,x1:x2]=re_photo\n",
    "    cv2.imshow(\"Picture\",photo2)\n",
    "    cv2.waitKey() == 13\n",
    "    cv2.destroyAllWindows()                        \n",
    "    \n",
    "    \n",
    "    \n",
    "    \n",
    "    "
   ]
  },
  {
   "cell_type": "code",
   "execution_count": 6,
   "id": "28417aca",
   "metadata": {},
   "outputs": [
    {
     "name": "stdout",
     "output_type": "stream",
     "text": [
      "Clicking picture 1\n",
      "True\n",
      "Cropping your picture\n",
      "Clicking picture on which you want to place the picture\n",
      "True\n"
     ]
    }
   ],
   "source": [
    "if __name__==\"__main__\":\n",
    "    print(\"Clicking picture 1\")\n",
    "    \n",
    "    photo1= click_pic()\n",
    "    print(\"Cropping your picture\")\n",
    "    crop_photo= crop_pic(photo1)\n",
    "    print(\"Clicking picture on which you want to place the picture\")\n",
    "    photo2= click_pic()\n",
    "    \n",
    "    replace_photo(crop_photo,photo2)"
   ]
  },
  {
   "cell_type": "code",
   "execution_count": null,
   "id": "a8e26da8",
   "metadata": {},
   "outputs": [],
   "source": []
  },
  {
   "cell_type": "code",
   "execution_count": null,
   "id": "104343a2",
   "metadata": {},
   "outputs": [],
   "source": [
    " "
   ]
  },
  {
   "cell_type": "code",
   "execution_count": 21,
   "id": "7115ad40",
   "metadata": {},
   "outputs": [],
   "source": []
  },
  {
   "cell_type": "code",
   "execution_count": null,
   "id": "9ddb6759",
   "metadata": {},
   "outputs": [],
   "source": []
  }
 ],
 "metadata": {
  "kernelspec": {
   "display_name": "Python 3 (ipykernel)",
   "language": "python",
   "name": "python3"
  },
  "language_info": {
   "codemirror_mode": {
    "name": "ipython",
    "version": 3
   },
   "file_extension": ".py",
   "mimetype": "text/x-python",
   "name": "python",
   "nbconvert_exporter": "python",
   "pygments_lexer": "ipython3",
   "version": "3.10.9"
  }
 },
 "nbformat": 4,
 "nbformat_minor": 5
}
