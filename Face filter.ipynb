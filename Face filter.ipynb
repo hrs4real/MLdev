{
 "cells": [
  {
   "cell_type": "code",
   "execution_count": 1,
   "id": "641c7701",
   "metadata": {},
   "outputs": [
    {
     "ename": "ValueError",
     "evalue": "could not broadcast input array from shape (147,147,3) into shape (147,0,3)",
     "output_type": "error",
     "traceback": [
      "\u001b[1;31m---------------------------------------------------------------------------\u001b[0m",
      "\u001b[1;31mValueError\u001b[0m                                Traceback (most recent call last)",
      "Cell \u001b[1;32mIn[1], line 16\u001b[0m\n\u001b[0;32m     14\u001b[0m img2\u001b[38;5;241m=\u001b[39mcv2\u001b[38;5;241m.\u001b[39mimread(\u001b[38;5;124m\"\u001b[39m\u001b[38;5;124mluffy.jpg\u001b[39m\u001b[38;5;124m\"\u001b[39m)    \n\u001b[0;32m     15\u001b[0m img2_resized \u001b[38;5;241m=\u001b[39m cv2\u001b[38;5;241m.\u001b[39mresize(img2, (w1, h1))\n\u001b[1;32m---> 16\u001b[0m img[y1:y2, x1:x2] \u001b[38;5;241m=\u001b[39m img2_resized\n\u001b[0;32m     17\u001b[0m cv2\u001b[38;5;241m.\u001b[39mimshow(\u001b[38;5;124m\"\u001b[39m\u001b[38;5;124mImage\u001b[39m\u001b[38;5;124m\"\u001b[39m, img)\n\u001b[0;32m     18\u001b[0m \u001b[38;5;28;01mif\u001b[39;00m cv2\u001b[38;5;241m.\u001b[39mwaitKey(\u001b[38;5;241m1\u001b[39m) \u001b[38;5;241m==\u001b[39m\u001b[38;5;241m13\u001b[39m:\n",
      "\u001b[1;31mValueError\u001b[0m: could not broadcast input array from shape (147,147,3) into shape (147,0,3)"
     ]
    }
   ],
   "source": [
    "from cvzone.FaceDetectionModule import FaceDetector\n",
    "import cv2\n",
    "\n",
    "cap = cv2.VideoCapture(0)\n",
    "detector = FaceDetector()\n",
    "\n",
    "while True:\n",
    "    success, img = cap.read()\n",
    "    img, bboxs = detector.findFaces(img)\n",
    "    if bboxs:\n",
    "        x1,y1,w1,h1=bboxs[0]['bbox']\n",
    "        x2=x1+w1\n",
    "        y2=y1+h1\n",
    "    img2=cv2.imread(\"luffy.jpg\")    \n",
    "    img2_resized = cv2.resize(img2, (w1, h1))\n",
    "    img[y1:y2, x1:x2] = img2_resized\n",
    "    cv2.imshow(\"Image\", img)\n",
    "    if cv2.waitKey(1) ==13:\n",
    "        break\n",
    "cv2.destroyAllWindows()\n",
    "cap.release()"
   ]
  },
  {
   "cell_type": "code",
   "execution_count": 3,
   "id": "a6e4f117",
   "metadata": {},
   "outputs": [],
   "source": []
  },
  {
   "cell_type": "code",
   "execution_count": null,
   "id": "8c1433a1",
   "metadata": {},
   "outputs": [],
   "source": []
  }
 ],
 "metadata": {
  "kernelspec": {
   "display_name": "Python 3 (ipykernel)",
   "language": "python",
   "name": "python3"
  },
  "language_info": {
   "codemirror_mode": {
    "name": "ipython",
    "version": 3
   },
   "file_extension": ".py",
   "mimetype": "text/x-python",
   "name": "python",
   "nbconvert_exporter": "python",
   "pygments_lexer": "ipython3",
   "version": "3.10.9"
  }
 },
 "nbformat": 4,
 "nbformat_minor": 5
}
