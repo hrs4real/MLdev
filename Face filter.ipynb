{
 "cells": [
  {
   "cell_type": "code",
   "execution_count": 1,
   "id": "641c7701",
   "metadata": {},
   "outputs": [],
   "source": [
    "from cvzone.FaceDetectionModule import FaceDetector\n",
    "import cv2\n",
    "\n",
    "cap = cv2.VideoCapture(0)\n",
    "detector = FaceDetector()\n",
    "\n",
    "while True:\n",
    "    success, img = cap.read()\n",
    "    img, bboxs = detector.findFaces(img)\n",
    "    if bboxs:\n",
    "        x1,y1,w1,h1=bboxs[0]['bbox']\n",
    "        x2=x1+w1\n",
    "        y2=y1+h1\n",
    "    img2=cv2.imread(\"luffy.jpg\")    \n",
    "    img2_resized = cv2.resize(img2, (w1, h1))\n",
    "    img[y1:y2, x1:x2] = img2_resized\n",
    "    cv2.imshow(\"Image\", img)\n",
    "    if cv2.waitKey(1) ==13:\n",
    "        break\n",
    "cv2.destroyAllWindows()\n",
    "cap.release()"
   ]
  },
  {
   "cell_type": "code",
   "execution_count": 3,
   "id": "a6e4f117",
   "metadata": {},
   "outputs": [],
   "source": []
  },
  {
   "cell_type": "code",
   "execution_count": null,
   "id": "8c1433a1",
   "metadata": {},
   "outputs": [],
   "source": []
  }
 ],
 "metadata": {
  "kernelspec": {
   "display_name": "Python 3 (ipykernel)",
   "language": "python",
   "name": "python3"
  },
  "language_info": {
   "codemirror_mode": {
    "name": "ipython",
    "version": 3
   },
   "file_extension": ".py",
   "mimetype": "text/x-python",
   "name": "python",
   "nbconvert_exporter": "python",
   "pygments_lexer": "ipython3",
   "version": "3.10.9"
  }
 },
 "nbformat": 4,
 "nbformat_minor": 5
}
